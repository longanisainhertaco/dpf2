{
 "cells": [
  {
   "cell_type": "markdown",
   "metadata": {},
   "source": [
    "# DPF2 Quickstart\n",
    "Run a minimal Dense Plasma Focus simulation." 
   ]
  },
  {
   "cell_type": "code",
   "metadata": {},
   "source": [
    "from dpf_config import DPFConfig\n",
    "from dpf2.simulation_engine import SimulationEngine\n",
    "import matplotlib.pyplot as plt"
   ],
   "execution_count": null,
   "outputs": []
  },
  {
   "cell_type": "code",
   "metadata": {},
   "source": [
    "cfg = DPFConfig.with_defaults()\n",
    "engine = SimulationEngine(cfg)\n",
    "results = engine.run()\n",
    "results.neutron_yield"
   ],
   "execution_count": null,
   "outputs": []
  },
  {
   "cell_type": "code",
   "metadata": {},
   "source": [
    "plt.plot(results.time * 1e6, results.current / 1e3)\n",
    "plt.xlabel('Time [µs]')\n",
    "plt.ylabel('Current [kA]')"
   ],
   "execution_count": null,
   "outputs": []
  }
 ],
 "metadata": {
  "kernelspec": {
   "display_name": "Python 3",
   "language": "python",
   "name": "python3"
  },
  "language_info": {
   "name": "python",
   "pygments_lexer": "ipython3"
  }
 },
 "nbformat": 4,
 "nbformat_minor": 5
}
